{
 "cells": [
  {
   "cell_type": "code",
   "execution_count": 1,
   "metadata": {},
   "outputs": [
    {
     "data": {
      "text/html": [
       "<div>\n",
       "<style scoped>\n",
       "    .dataframe tbody tr th:only-of-type {\n",
       "        vertical-align: middle;\n",
       "    }\n",
       "\n",
       "    .dataframe tbody tr th {\n",
       "        vertical-align: top;\n",
       "    }\n",
       "\n",
       "    .dataframe thead th {\n",
       "        text-align: right;\n",
       "    }\n",
       "</style>\n",
       "<table border=\"1\" class=\"dataframe\">\n",
       "  <thead>\n",
       "    <tr style=\"text-align: right;\">\n",
       "      <th></th>\n",
       "      <th>age</th>\n",
       "      <th>sex</th>\n",
       "      <th>bmi</th>\n",
       "      <th>children</th>\n",
       "      <th>smoker</th>\n",
       "      <th>region</th>\n",
       "      <th>charges</th>\n",
       "    </tr>\n",
       "  </thead>\n",
       "  <tbody>\n",
       "    <tr>\n",
       "      <th>0</th>\n",
       "      <td>19</td>\n",
       "      <td>female</td>\n",
       "      <td>27.900</td>\n",
       "      <td>0</td>\n",
       "      <td>yes</td>\n",
       "      <td>southwest</td>\n",
       "      <td>16884.92400</td>\n",
       "    </tr>\n",
       "    <tr>\n",
       "      <th>1</th>\n",
       "      <td>18</td>\n",
       "      <td>male</td>\n",
       "      <td>33.770</td>\n",
       "      <td>1</td>\n",
       "      <td>no</td>\n",
       "      <td>southeast</td>\n",
       "      <td>1725.55230</td>\n",
       "    </tr>\n",
       "    <tr>\n",
       "      <th>2</th>\n",
       "      <td>28</td>\n",
       "      <td>male</td>\n",
       "      <td>33.000</td>\n",
       "      <td>3</td>\n",
       "      <td>no</td>\n",
       "      <td>southeast</td>\n",
       "      <td>4449.46200</td>\n",
       "    </tr>\n",
       "    <tr>\n",
       "      <th>3</th>\n",
       "      <td>33</td>\n",
       "      <td>male</td>\n",
       "      <td>22.705</td>\n",
       "      <td>0</td>\n",
       "      <td>no</td>\n",
       "      <td>northwest</td>\n",
       "      <td>21984.47061</td>\n",
       "    </tr>\n",
       "    <tr>\n",
       "      <th>4</th>\n",
       "      <td>32</td>\n",
       "      <td>male</td>\n",
       "      <td>28.880</td>\n",
       "      <td>0</td>\n",
       "      <td>no</td>\n",
       "      <td>northwest</td>\n",
       "      <td>3866.85520</td>\n",
       "    </tr>\n",
       "  </tbody>\n",
       "</table>\n",
       "</div>"
      ],
      "text/plain": [
       "   age     sex     bmi  children smoker     region      charges\n",
       "0   19  female  27.900         0    yes  southwest  16884.92400\n",
       "1   18    male  33.770         1     no  southeast   1725.55230\n",
       "2   28    male  33.000         3     no  southeast   4449.46200\n",
       "3   33    male  22.705         0     no  northwest  21984.47061\n",
       "4   32    male  28.880         0     no  northwest   3866.85520"
      ]
     },
     "metadata": {},
     "output_type": "display_data"
    }
   ],
   "source": [
    "from pycaret.datasets import get_data\n",
    "data = get_data('insurance')"
   ]
  },
  {
   "cell_type": "markdown",
   "metadata": {},
   "source": [
    "# Experiment 1"
   ]
  },
  {
   "cell_type": "code",
   "execution_count": 2,
   "metadata": {},
   "outputs": [],
   "source": [
    "from pycaret.regression import *"
   ]
  },
  {
   "cell_type": "code",
   "execution_count": 3,
   "metadata": {},
   "outputs": [
    {
     "name": "stdout",
     "output_type": "stream",
     "text": [
      " \n",
      "Setup Succesfully Completed.\n"
     ]
    },
    {
     "data": {
      "text/html": [
       "<style  type=\"text/css\" >\n",
       "</style><table id=\"T_10f00310_d9d0_11ea_9675_a0999b0e5235\" ><thead>    <tr>        <th class=\"blank level0\" ></th>        <th class=\"col_heading level0 col0\" >Description</th>        <th class=\"col_heading level0 col1\" >Value</th>    </tr></thead><tbody>\n",
       "                <tr>\n",
       "                        <th id=\"T_10f00310_d9d0_11ea_9675_a0999b0e5235level0_row0\" class=\"row_heading level0 row0\" >0</th>\n",
       "                        <td id=\"T_10f00310_d9d0_11ea_9675_a0999b0e5235row0_col0\" class=\"data row0 col0\" >session_id</td>\n",
       "                        <td id=\"T_10f00310_d9d0_11ea_9675_a0999b0e5235row0_col1\" class=\"data row0 col1\" >123</td>\n",
       "            </tr>\n",
       "            <tr>\n",
       "                        <th id=\"T_10f00310_d9d0_11ea_9675_a0999b0e5235level0_row1\" class=\"row_heading level0 row1\" >1</th>\n",
       "                        <td id=\"T_10f00310_d9d0_11ea_9675_a0999b0e5235row1_col0\" class=\"data row1 col0\" >Transform Target </td>\n",
       "                        <td id=\"T_10f00310_d9d0_11ea_9675_a0999b0e5235row1_col1\" class=\"data row1 col1\" >False</td>\n",
       "            </tr>\n",
       "            <tr>\n",
       "                        <th id=\"T_10f00310_d9d0_11ea_9675_a0999b0e5235level0_row2\" class=\"row_heading level0 row2\" >2</th>\n",
       "                        <td id=\"T_10f00310_d9d0_11ea_9675_a0999b0e5235row2_col0\" class=\"data row2 col0\" >Transform Target Method</td>\n",
       "                        <td id=\"T_10f00310_d9d0_11ea_9675_a0999b0e5235row2_col1\" class=\"data row2 col1\" >None</td>\n",
       "            </tr>\n",
       "            <tr>\n",
       "                        <th id=\"T_10f00310_d9d0_11ea_9675_a0999b0e5235level0_row3\" class=\"row_heading level0 row3\" >3</th>\n",
       "                        <td id=\"T_10f00310_d9d0_11ea_9675_a0999b0e5235row3_col0\" class=\"data row3 col0\" >Original Data</td>\n",
       "                        <td id=\"T_10f00310_d9d0_11ea_9675_a0999b0e5235row3_col1\" class=\"data row3 col1\" >(1338, 7)</td>\n",
       "            </tr>\n",
       "            <tr>\n",
       "                        <th id=\"T_10f00310_d9d0_11ea_9675_a0999b0e5235level0_row4\" class=\"row_heading level0 row4\" >4</th>\n",
       "                        <td id=\"T_10f00310_d9d0_11ea_9675_a0999b0e5235row4_col0\" class=\"data row4 col0\" >Missing Values </td>\n",
       "                        <td id=\"T_10f00310_d9d0_11ea_9675_a0999b0e5235row4_col1\" class=\"data row4 col1\" >False</td>\n",
       "            </tr>\n",
       "            <tr>\n",
       "                        <th id=\"T_10f00310_d9d0_11ea_9675_a0999b0e5235level0_row5\" class=\"row_heading level0 row5\" >5</th>\n",
       "                        <td id=\"T_10f00310_d9d0_11ea_9675_a0999b0e5235row5_col0\" class=\"data row5 col0\" >Numeric Features </td>\n",
       "                        <td id=\"T_10f00310_d9d0_11ea_9675_a0999b0e5235row5_col1\" class=\"data row5 col1\" >2</td>\n",
       "            </tr>\n",
       "            <tr>\n",
       "                        <th id=\"T_10f00310_d9d0_11ea_9675_a0999b0e5235level0_row6\" class=\"row_heading level0 row6\" >6</th>\n",
       "                        <td id=\"T_10f00310_d9d0_11ea_9675_a0999b0e5235row6_col0\" class=\"data row6 col0\" >Categorical Features </td>\n",
       "                        <td id=\"T_10f00310_d9d0_11ea_9675_a0999b0e5235row6_col1\" class=\"data row6 col1\" >4</td>\n",
       "            </tr>\n",
       "            <tr>\n",
       "                        <th id=\"T_10f00310_d9d0_11ea_9675_a0999b0e5235level0_row7\" class=\"row_heading level0 row7\" >7</th>\n",
       "                        <td id=\"T_10f00310_d9d0_11ea_9675_a0999b0e5235row7_col0\" class=\"data row7 col0\" >Ordinal Features </td>\n",
       "                        <td id=\"T_10f00310_d9d0_11ea_9675_a0999b0e5235row7_col1\" class=\"data row7 col1\" >False</td>\n",
       "            </tr>\n",
       "            <tr>\n",
       "                        <th id=\"T_10f00310_d9d0_11ea_9675_a0999b0e5235level0_row8\" class=\"row_heading level0 row8\" >8</th>\n",
       "                        <td id=\"T_10f00310_d9d0_11ea_9675_a0999b0e5235row8_col0\" class=\"data row8 col0\" >High Cardinality Features </td>\n",
       "                        <td id=\"T_10f00310_d9d0_11ea_9675_a0999b0e5235row8_col1\" class=\"data row8 col1\" >False</td>\n",
       "            </tr>\n",
       "            <tr>\n",
       "                        <th id=\"T_10f00310_d9d0_11ea_9675_a0999b0e5235level0_row9\" class=\"row_heading level0 row9\" >9</th>\n",
       "                        <td id=\"T_10f00310_d9d0_11ea_9675_a0999b0e5235row9_col0\" class=\"data row9 col0\" >High Cardinality Method </td>\n",
       "                        <td id=\"T_10f00310_d9d0_11ea_9675_a0999b0e5235row9_col1\" class=\"data row9 col1\" >None</td>\n",
       "            </tr>\n",
       "            <tr>\n",
       "                        <th id=\"T_10f00310_d9d0_11ea_9675_a0999b0e5235level0_row10\" class=\"row_heading level0 row10\" >10</th>\n",
       "                        <td id=\"T_10f00310_d9d0_11ea_9675_a0999b0e5235row10_col0\" class=\"data row10 col0\" >Sampled Data</td>\n",
       "                        <td id=\"T_10f00310_d9d0_11ea_9675_a0999b0e5235row10_col1\" class=\"data row10 col1\" >(1338, 7)</td>\n",
       "            </tr>\n",
       "            <tr>\n",
       "                        <th id=\"T_10f00310_d9d0_11ea_9675_a0999b0e5235level0_row11\" class=\"row_heading level0 row11\" >11</th>\n",
       "                        <td id=\"T_10f00310_d9d0_11ea_9675_a0999b0e5235row11_col0\" class=\"data row11 col0\" >Transformed Train Set</td>\n",
       "                        <td id=\"T_10f00310_d9d0_11ea_9675_a0999b0e5235row11_col1\" class=\"data row11 col1\" >(936, 16)</td>\n",
       "            </tr>\n",
       "            <tr>\n",
       "                        <th id=\"T_10f00310_d9d0_11ea_9675_a0999b0e5235level0_row12\" class=\"row_heading level0 row12\" >12</th>\n",
       "                        <td id=\"T_10f00310_d9d0_11ea_9675_a0999b0e5235row12_col0\" class=\"data row12 col0\" >Transformed Test Set</td>\n",
       "                        <td id=\"T_10f00310_d9d0_11ea_9675_a0999b0e5235row12_col1\" class=\"data row12 col1\" >(402, 16)</td>\n",
       "            </tr>\n",
       "            <tr>\n",
       "                        <th id=\"T_10f00310_d9d0_11ea_9675_a0999b0e5235level0_row13\" class=\"row_heading level0 row13\" >13</th>\n",
       "                        <td id=\"T_10f00310_d9d0_11ea_9675_a0999b0e5235row13_col0\" class=\"data row13 col0\" >Numeric Imputer </td>\n",
       "                        <td id=\"T_10f00310_d9d0_11ea_9675_a0999b0e5235row13_col1\" class=\"data row13 col1\" >mean</td>\n",
       "            </tr>\n",
       "            <tr>\n",
       "                        <th id=\"T_10f00310_d9d0_11ea_9675_a0999b0e5235level0_row14\" class=\"row_heading level0 row14\" >14</th>\n",
       "                        <td id=\"T_10f00310_d9d0_11ea_9675_a0999b0e5235row14_col0\" class=\"data row14 col0\" >Categorical Imputer </td>\n",
       "                        <td id=\"T_10f00310_d9d0_11ea_9675_a0999b0e5235row14_col1\" class=\"data row14 col1\" >constant</td>\n",
       "            </tr>\n",
       "            <tr>\n",
       "                        <th id=\"T_10f00310_d9d0_11ea_9675_a0999b0e5235level0_row15\" class=\"row_heading level0 row15\" >15</th>\n",
       "                        <td id=\"T_10f00310_d9d0_11ea_9675_a0999b0e5235row15_col0\" class=\"data row15 col0\" >Normalize </td>\n",
       "                        <td id=\"T_10f00310_d9d0_11ea_9675_a0999b0e5235row15_col1\" class=\"data row15 col1\" >False</td>\n",
       "            </tr>\n",
       "            <tr>\n",
       "                        <th id=\"T_10f00310_d9d0_11ea_9675_a0999b0e5235level0_row16\" class=\"row_heading level0 row16\" >16</th>\n",
       "                        <td id=\"T_10f00310_d9d0_11ea_9675_a0999b0e5235row16_col0\" class=\"data row16 col0\" >Normalize Method </td>\n",
       "                        <td id=\"T_10f00310_d9d0_11ea_9675_a0999b0e5235row16_col1\" class=\"data row16 col1\" >None</td>\n",
       "            </tr>\n",
       "            <tr>\n",
       "                        <th id=\"T_10f00310_d9d0_11ea_9675_a0999b0e5235level0_row17\" class=\"row_heading level0 row17\" >17</th>\n",
       "                        <td id=\"T_10f00310_d9d0_11ea_9675_a0999b0e5235row17_col0\" class=\"data row17 col0\" >Transformation </td>\n",
       "                        <td id=\"T_10f00310_d9d0_11ea_9675_a0999b0e5235row17_col1\" class=\"data row17 col1\" >False</td>\n",
       "            </tr>\n",
       "            <tr>\n",
       "                        <th id=\"T_10f00310_d9d0_11ea_9675_a0999b0e5235level0_row18\" class=\"row_heading level0 row18\" >18</th>\n",
       "                        <td id=\"T_10f00310_d9d0_11ea_9675_a0999b0e5235row18_col0\" class=\"data row18 col0\" >Transformation Method </td>\n",
       "                        <td id=\"T_10f00310_d9d0_11ea_9675_a0999b0e5235row18_col1\" class=\"data row18 col1\" >None</td>\n",
       "            </tr>\n",
       "            <tr>\n",
       "                        <th id=\"T_10f00310_d9d0_11ea_9675_a0999b0e5235level0_row19\" class=\"row_heading level0 row19\" >19</th>\n",
       "                        <td id=\"T_10f00310_d9d0_11ea_9675_a0999b0e5235row19_col0\" class=\"data row19 col0\" >PCA </td>\n",
       "                        <td id=\"T_10f00310_d9d0_11ea_9675_a0999b0e5235row19_col1\" class=\"data row19 col1\" >False</td>\n",
       "            </tr>\n",
       "            <tr>\n",
       "                        <th id=\"T_10f00310_d9d0_11ea_9675_a0999b0e5235level0_row20\" class=\"row_heading level0 row20\" >20</th>\n",
       "                        <td id=\"T_10f00310_d9d0_11ea_9675_a0999b0e5235row20_col0\" class=\"data row20 col0\" >PCA Method </td>\n",
       "                        <td id=\"T_10f00310_d9d0_11ea_9675_a0999b0e5235row20_col1\" class=\"data row20 col1\" >None</td>\n",
       "            </tr>\n",
       "            <tr>\n",
       "                        <th id=\"T_10f00310_d9d0_11ea_9675_a0999b0e5235level0_row21\" class=\"row_heading level0 row21\" >21</th>\n",
       "                        <td id=\"T_10f00310_d9d0_11ea_9675_a0999b0e5235row21_col0\" class=\"data row21 col0\" >PCA Components </td>\n",
       "                        <td id=\"T_10f00310_d9d0_11ea_9675_a0999b0e5235row21_col1\" class=\"data row21 col1\" >None</td>\n",
       "            </tr>\n",
       "            <tr>\n",
       "                        <th id=\"T_10f00310_d9d0_11ea_9675_a0999b0e5235level0_row22\" class=\"row_heading level0 row22\" >22</th>\n",
       "                        <td id=\"T_10f00310_d9d0_11ea_9675_a0999b0e5235row22_col0\" class=\"data row22 col0\" >Ignore Low Variance </td>\n",
       "                        <td id=\"T_10f00310_d9d0_11ea_9675_a0999b0e5235row22_col1\" class=\"data row22 col1\" >False</td>\n",
       "            </tr>\n",
       "            <tr>\n",
       "                        <th id=\"T_10f00310_d9d0_11ea_9675_a0999b0e5235level0_row23\" class=\"row_heading level0 row23\" >23</th>\n",
       "                        <td id=\"T_10f00310_d9d0_11ea_9675_a0999b0e5235row23_col0\" class=\"data row23 col0\" >Combine Rare Levels </td>\n",
       "                        <td id=\"T_10f00310_d9d0_11ea_9675_a0999b0e5235row23_col1\" class=\"data row23 col1\" >False</td>\n",
       "            </tr>\n",
       "            <tr>\n",
       "                        <th id=\"T_10f00310_d9d0_11ea_9675_a0999b0e5235level0_row24\" class=\"row_heading level0 row24\" >24</th>\n",
       "                        <td id=\"T_10f00310_d9d0_11ea_9675_a0999b0e5235row24_col0\" class=\"data row24 col0\" >Rare Level Threshold </td>\n",
       "                        <td id=\"T_10f00310_d9d0_11ea_9675_a0999b0e5235row24_col1\" class=\"data row24 col1\" >None</td>\n",
       "            </tr>\n",
       "            <tr>\n",
       "                        <th id=\"T_10f00310_d9d0_11ea_9675_a0999b0e5235level0_row25\" class=\"row_heading level0 row25\" >25</th>\n",
       "                        <td id=\"T_10f00310_d9d0_11ea_9675_a0999b0e5235row25_col0\" class=\"data row25 col0\" >Numeric Binning </td>\n",
       "                        <td id=\"T_10f00310_d9d0_11ea_9675_a0999b0e5235row25_col1\" class=\"data row25 col1\" >False</td>\n",
       "            </tr>\n",
       "            <tr>\n",
       "                        <th id=\"T_10f00310_d9d0_11ea_9675_a0999b0e5235level0_row26\" class=\"row_heading level0 row26\" >26</th>\n",
       "                        <td id=\"T_10f00310_d9d0_11ea_9675_a0999b0e5235row26_col0\" class=\"data row26 col0\" >Remove Outliers </td>\n",
       "                        <td id=\"T_10f00310_d9d0_11ea_9675_a0999b0e5235row26_col1\" class=\"data row26 col1\" >False</td>\n",
       "            </tr>\n",
       "            <tr>\n",
       "                        <th id=\"T_10f00310_d9d0_11ea_9675_a0999b0e5235level0_row27\" class=\"row_heading level0 row27\" >27</th>\n",
       "                        <td id=\"T_10f00310_d9d0_11ea_9675_a0999b0e5235row27_col0\" class=\"data row27 col0\" >Outliers Threshold </td>\n",
       "                        <td id=\"T_10f00310_d9d0_11ea_9675_a0999b0e5235row27_col1\" class=\"data row27 col1\" >None</td>\n",
       "            </tr>\n",
       "            <tr>\n",
       "                        <th id=\"T_10f00310_d9d0_11ea_9675_a0999b0e5235level0_row28\" class=\"row_heading level0 row28\" >28</th>\n",
       "                        <td id=\"T_10f00310_d9d0_11ea_9675_a0999b0e5235row28_col0\" class=\"data row28 col0\" >Remove Multicollinearity </td>\n",
       "                        <td id=\"T_10f00310_d9d0_11ea_9675_a0999b0e5235row28_col1\" class=\"data row28 col1\" >False</td>\n",
       "            </tr>\n",
       "            <tr>\n",
       "                        <th id=\"T_10f00310_d9d0_11ea_9675_a0999b0e5235level0_row29\" class=\"row_heading level0 row29\" >29</th>\n",
       "                        <td id=\"T_10f00310_d9d0_11ea_9675_a0999b0e5235row29_col0\" class=\"data row29 col0\" >Multicollinearity Threshold </td>\n",
       "                        <td id=\"T_10f00310_d9d0_11ea_9675_a0999b0e5235row29_col1\" class=\"data row29 col1\" >None</td>\n",
       "            </tr>\n",
       "            <tr>\n",
       "                        <th id=\"T_10f00310_d9d0_11ea_9675_a0999b0e5235level0_row30\" class=\"row_heading level0 row30\" >30</th>\n",
       "                        <td id=\"T_10f00310_d9d0_11ea_9675_a0999b0e5235row30_col0\" class=\"data row30 col0\" >Clustering </td>\n",
       "                        <td id=\"T_10f00310_d9d0_11ea_9675_a0999b0e5235row30_col1\" class=\"data row30 col1\" >False</td>\n",
       "            </tr>\n",
       "            <tr>\n",
       "                        <th id=\"T_10f00310_d9d0_11ea_9675_a0999b0e5235level0_row31\" class=\"row_heading level0 row31\" >31</th>\n",
       "                        <td id=\"T_10f00310_d9d0_11ea_9675_a0999b0e5235row31_col0\" class=\"data row31 col0\" >Clustering Iteration </td>\n",
       "                        <td id=\"T_10f00310_d9d0_11ea_9675_a0999b0e5235row31_col1\" class=\"data row31 col1\" >None</td>\n",
       "            </tr>\n",
       "            <tr>\n",
       "                        <th id=\"T_10f00310_d9d0_11ea_9675_a0999b0e5235level0_row32\" class=\"row_heading level0 row32\" >32</th>\n",
       "                        <td id=\"T_10f00310_d9d0_11ea_9675_a0999b0e5235row32_col0\" class=\"data row32 col0\" >Polynomial Features </td>\n",
       "                        <td id=\"T_10f00310_d9d0_11ea_9675_a0999b0e5235row32_col1\" class=\"data row32 col1\" >False</td>\n",
       "            </tr>\n",
       "            <tr>\n",
       "                        <th id=\"T_10f00310_d9d0_11ea_9675_a0999b0e5235level0_row33\" class=\"row_heading level0 row33\" >33</th>\n",
       "                        <td id=\"T_10f00310_d9d0_11ea_9675_a0999b0e5235row33_col0\" class=\"data row33 col0\" >Polynomial Degree </td>\n",
       "                        <td id=\"T_10f00310_d9d0_11ea_9675_a0999b0e5235row33_col1\" class=\"data row33 col1\" >None</td>\n",
       "            </tr>\n",
       "            <tr>\n",
       "                        <th id=\"T_10f00310_d9d0_11ea_9675_a0999b0e5235level0_row34\" class=\"row_heading level0 row34\" >34</th>\n",
       "                        <td id=\"T_10f00310_d9d0_11ea_9675_a0999b0e5235row34_col0\" class=\"data row34 col0\" >Trignometry Features </td>\n",
       "                        <td id=\"T_10f00310_d9d0_11ea_9675_a0999b0e5235row34_col1\" class=\"data row34 col1\" >False</td>\n",
       "            </tr>\n",
       "            <tr>\n",
       "                        <th id=\"T_10f00310_d9d0_11ea_9675_a0999b0e5235level0_row35\" class=\"row_heading level0 row35\" >35</th>\n",
       "                        <td id=\"T_10f00310_d9d0_11ea_9675_a0999b0e5235row35_col0\" class=\"data row35 col0\" >Polynomial Threshold </td>\n",
       "                        <td id=\"T_10f00310_d9d0_11ea_9675_a0999b0e5235row35_col1\" class=\"data row35 col1\" >None</td>\n",
       "            </tr>\n",
       "            <tr>\n",
       "                        <th id=\"T_10f00310_d9d0_11ea_9675_a0999b0e5235level0_row36\" class=\"row_heading level0 row36\" >36</th>\n",
       "                        <td id=\"T_10f00310_d9d0_11ea_9675_a0999b0e5235row36_col0\" class=\"data row36 col0\" >Group Features </td>\n",
       "                        <td id=\"T_10f00310_d9d0_11ea_9675_a0999b0e5235row36_col1\" class=\"data row36 col1\" >False</td>\n",
       "            </tr>\n",
       "            <tr>\n",
       "                        <th id=\"T_10f00310_d9d0_11ea_9675_a0999b0e5235level0_row37\" class=\"row_heading level0 row37\" >37</th>\n",
       "                        <td id=\"T_10f00310_d9d0_11ea_9675_a0999b0e5235row37_col0\" class=\"data row37 col0\" >Feature Selection </td>\n",
       "                        <td id=\"T_10f00310_d9d0_11ea_9675_a0999b0e5235row37_col1\" class=\"data row37 col1\" >False</td>\n",
       "            </tr>\n",
       "            <tr>\n",
       "                        <th id=\"T_10f00310_d9d0_11ea_9675_a0999b0e5235level0_row38\" class=\"row_heading level0 row38\" >38</th>\n",
       "                        <td id=\"T_10f00310_d9d0_11ea_9675_a0999b0e5235row38_col0\" class=\"data row38 col0\" >Features Selection Threshold </td>\n",
       "                        <td id=\"T_10f00310_d9d0_11ea_9675_a0999b0e5235row38_col1\" class=\"data row38 col1\" >None</td>\n",
       "            </tr>\n",
       "            <tr>\n",
       "                        <th id=\"T_10f00310_d9d0_11ea_9675_a0999b0e5235level0_row39\" class=\"row_heading level0 row39\" >39</th>\n",
       "                        <td id=\"T_10f00310_d9d0_11ea_9675_a0999b0e5235row39_col0\" class=\"data row39 col0\" >Feature Interaction </td>\n",
       "                        <td id=\"T_10f00310_d9d0_11ea_9675_a0999b0e5235row39_col1\" class=\"data row39 col1\" >False</td>\n",
       "            </tr>\n",
       "            <tr>\n",
       "                        <th id=\"T_10f00310_d9d0_11ea_9675_a0999b0e5235level0_row40\" class=\"row_heading level0 row40\" >40</th>\n",
       "                        <td id=\"T_10f00310_d9d0_11ea_9675_a0999b0e5235row40_col0\" class=\"data row40 col0\" >Feature Ratio </td>\n",
       "                        <td id=\"T_10f00310_d9d0_11ea_9675_a0999b0e5235row40_col1\" class=\"data row40 col1\" >False</td>\n",
       "            </tr>\n",
       "            <tr>\n",
       "                        <th id=\"T_10f00310_d9d0_11ea_9675_a0999b0e5235level0_row41\" class=\"row_heading level0 row41\" >41</th>\n",
       "                        <td id=\"T_10f00310_d9d0_11ea_9675_a0999b0e5235row41_col0\" class=\"data row41 col0\" >Interaction Threshold </td>\n",
       "                        <td id=\"T_10f00310_d9d0_11ea_9675_a0999b0e5235row41_col1\" class=\"data row41 col1\" >None</td>\n",
       "            </tr>\n",
       "    </tbody></table>"
      ],
      "text/plain": [
       "<pandas.io.formats.style.Styler at 0x7fde7a1198e0>"
      ]
     },
     "metadata": {},
     "output_type": "display_data"
    }
   ],
   "source": [
    "s = setup(data, target = 'charges', session_id = 123)"
   ]
  },
  {
   "cell_type": "code",
   "execution_count": 4,
   "metadata": {},
   "outputs": [
    {
     "data": {
      "text/html": [
       "<style  type=\"text/css\" >\n",
       "#T_11b1e2be_d9d0_11ea_9675_a0999b0e5235row10_col0,#T_11b1e2be_d9d0_11ea_9675_a0999b0e5235row10_col1,#T_11b1e2be_d9d0_11ea_9675_a0999b0e5235row10_col2,#T_11b1e2be_d9d0_11ea_9675_a0999b0e5235row10_col3,#T_11b1e2be_d9d0_11ea_9675_a0999b0e5235row10_col4,#T_11b1e2be_d9d0_11ea_9675_a0999b0e5235row10_col5{\n",
       "            background:  yellow;\n",
       "        }</style><table id=\"T_11b1e2be_d9d0_11ea_9675_a0999b0e5235\" ><thead>    <tr>        <th class=\"blank level0\" ></th>        <th class=\"col_heading level0 col0\" >MAE</th>        <th class=\"col_heading level0 col1\" >MSE</th>        <th class=\"col_heading level0 col2\" >RMSE</th>        <th class=\"col_heading level0 col3\" >R2</th>        <th class=\"col_heading level0 col4\" >RMSLE</th>        <th class=\"col_heading level0 col5\" >MAPE</th>    </tr></thead><tbody>\n",
       "                <tr>\n",
       "                        <th id=\"T_11b1e2be_d9d0_11ea_9675_a0999b0e5235level0_row0\" class=\"row_heading level0 row0\" >0</th>\n",
       "                        <td id=\"T_11b1e2be_d9d0_11ea_9675_a0999b0e5235row0_col0\" class=\"data row0 col0\" >4165.9659</td>\n",
       "                        <td id=\"T_11b1e2be_d9d0_11ea_9675_a0999b0e5235row0_col1\" class=\"data row0 col1\" >33302027.1824</td>\n",
       "                        <td id=\"T_11b1e2be_d9d0_11ea_9675_a0999b0e5235row0_col2\" class=\"data row0 col2\" >5770.7909</td>\n",
       "                        <td id=\"T_11b1e2be_d9d0_11ea_9675_a0999b0e5235row0_col3\" class=\"data row0 col3\" >0.8011</td>\n",
       "                        <td id=\"T_11b1e2be_d9d0_11ea_9675_a0999b0e5235row0_col4\" class=\"data row0 col4\" >0.4683</td>\n",
       "                        <td id=\"T_11b1e2be_d9d0_11ea_9675_a0999b0e5235row0_col5\" class=\"data row0 col5\" >0.4153</td>\n",
       "            </tr>\n",
       "            <tr>\n",
       "                        <th id=\"T_11b1e2be_d9d0_11ea_9675_a0999b0e5235level0_row1\" class=\"row_heading level0 row1\" >1</th>\n",
       "                        <td id=\"T_11b1e2be_d9d0_11ea_9675_a0999b0e5235row1_col0\" class=\"data row1 col0\" >4503.7366</td>\n",
       "                        <td id=\"T_11b1e2be_d9d0_11ea_9675_a0999b0e5235row1_col1\" class=\"data row1 col1\" >43746480.7428</td>\n",
       "                        <td id=\"T_11b1e2be_d9d0_11ea_9675_a0999b0e5235row1_col2\" class=\"data row1 col2\" >6614.1122</td>\n",
       "                        <td id=\"T_11b1e2be_d9d0_11ea_9675_a0999b0e5235row1_col3\" class=\"data row1 col3\" >0.7456</td>\n",
       "                        <td id=\"T_11b1e2be_d9d0_11ea_9675_a0999b0e5235row1_col4\" class=\"data row1 col4\" >0.5633</td>\n",
       "                        <td id=\"T_11b1e2be_d9d0_11ea_9675_a0999b0e5235row1_col5\" class=\"data row1 col5\" >0.4217</td>\n",
       "            </tr>\n",
       "            <tr>\n",
       "                        <th id=\"T_11b1e2be_d9d0_11ea_9675_a0999b0e5235level0_row2\" class=\"row_heading level0 row2\" >2</th>\n",
       "                        <td id=\"T_11b1e2be_d9d0_11ea_9675_a0999b0e5235row2_col0\" class=\"data row2 col0\" >3880.5528</td>\n",
       "                        <td id=\"T_11b1e2be_d9d0_11ea_9675_a0999b0e5235row2_col1\" class=\"data row2 col1\" >31795139.4170</td>\n",
       "                        <td id=\"T_11b1e2be_d9d0_11ea_9675_a0999b0e5235row2_col2\" class=\"data row2 col2\" >5638.7179</td>\n",
       "                        <td id=\"T_11b1e2be_d9d0_11ea_9675_a0999b0e5235row2_col3\" class=\"data row2 col3\" >0.5974</td>\n",
       "                        <td id=\"T_11b1e2be_d9d0_11ea_9675_a0999b0e5235row2_col4\" class=\"data row2 col4\" >0.7645</td>\n",
       "                        <td id=\"T_11b1e2be_d9d0_11ea_9675_a0999b0e5235row2_col5\" class=\"data row2 col5\" >0.4396</td>\n",
       "            </tr>\n",
       "            <tr>\n",
       "                        <th id=\"T_11b1e2be_d9d0_11ea_9675_a0999b0e5235level0_row3\" class=\"row_heading level0 row3\" >3</th>\n",
       "                        <td id=\"T_11b1e2be_d9d0_11ea_9675_a0999b0e5235row3_col0\" class=\"data row3 col0\" >3747.6457</td>\n",
       "                        <td id=\"T_11b1e2be_d9d0_11ea_9675_a0999b0e5235row3_col1\" class=\"data row3 col1\" >26805298.3432</td>\n",
       "                        <td id=\"T_11b1e2be_d9d0_11ea_9675_a0999b0e5235row3_col2\" class=\"data row3 col2\" >5177.3833</td>\n",
       "                        <td id=\"T_11b1e2be_d9d0_11ea_9675_a0999b0e5235row3_col3\" class=\"data row3 col3\" >0.7762</td>\n",
       "                        <td id=\"T_11b1e2be_d9d0_11ea_9675_a0999b0e5235row3_col4\" class=\"data row3 col4\" >0.5015</td>\n",
       "                        <td id=\"T_11b1e2be_d9d0_11ea_9675_a0999b0e5235row3_col5\" class=\"data row3 col5\" >0.5175</td>\n",
       "            </tr>\n",
       "            <tr>\n",
       "                        <th id=\"T_11b1e2be_d9d0_11ea_9675_a0999b0e5235level0_row4\" class=\"row_heading level0 row4\" >4</th>\n",
       "                        <td id=\"T_11b1e2be_d9d0_11ea_9675_a0999b0e5235row4_col0\" class=\"data row4 col0\" >4471.0419</td>\n",
       "                        <td id=\"T_11b1e2be_d9d0_11ea_9675_a0999b0e5235row4_col1\" class=\"data row4 col1\" >43410532.5882</td>\n",
       "                        <td id=\"T_11b1e2be_d9d0_11ea_9675_a0999b0e5235row4_col2\" class=\"data row4 col2\" >6588.6670</td>\n",
       "                        <td id=\"T_11b1e2be_d9d0_11ea_9675_a0999b0e5235row4_col3\" class=\"data row4 col3\" >0.6771</td>\n",
       "                        <td id=\"T_11b1e2be_d9d0_11ea_9675_a0999b0e5235row4_col4\" class=\"data row4 col4\" >0.5224</td>\n",
       "                        <td id=\"T_11b1e2be_d9d0_11ea_9675_a0999b0e5235row4_col5\" class=\"data row4 col5\" >0.3767</td>\n",
       "            </tr>\n",
       "            <tr>\n",
       "                        <th id=\"T_11b1e2be_d9d0_11ea_9675_a0999b0e5235level0_row5\" class=\"row_heading level0 row5\" >5</th>\n",
       "                        <td id=\"T_11b1e2be_d9d0_11ea_9675_a0999b0e5235row5_col0\" class=\"data row5 col0\" >4182.7551</td>\n",
       "                        <td id=\"T_11b1e2be_d9d0_11ea_9675_a0999b0e5235row5_col1\" class=\"data row5 col1\" >36166332.0827</td>\n",
       "                        <td id=\"T_11b1e2be_d9d0_11ea_9675_a0999b0e5235row5_col2\" class=\"data row5 col2\" >6013.8450</td>\n",
       "                        <td id=\"T_11b1e2be_d9d0_11ea_9675_a0999b0e5235row5_col3\" class=\"data row5 col3\" >0.7674</td>\n",
       "                        <td id=\"T_11b1e2be_d9d0_11ea_9675_a0999b0e5235row5_col4\" class=\"data row5 col4\" >0.7416</td>\n",
       "                        <td id=\"T_11b1e2be_d9d0_11ea_9675_a0999b0e5235row5_col5\" class=\"data row5 col5\" >0.4320</td>\n",
       "            </tr>\n",
       "            <tr>\n",
       "                        <th id=\"T_11b1e2be_d9d0_11ea_9675_a0999b0e5235level0_row6\" class=\"row_heading level0 row6\" >6</th>\n",
       "                        <td id=\"T_11b1e2be_d9d0_11ea_9675_a0999b0e5235row6_col0\" class=\"data row6 col0\" >4081.1022</td>\n",
       "                        <td id=\"T_11b1e2be_d9d0_11ea_9675_a0999b0e5235row6_col1\" class=\"data row6 col1\" >39192588.2370</td>\n",
       "                        <td id=\"T_11b1e2be_d9d0_11ea_9675_a0999b0e5235row6_col2\" class=\"data row6 col2\" >6260.3984</td>\n",
       "                        <td id=\"T_11b1e2be_d9d0_11ea_9675_a0999b0e5235row6_col3\" class=\"data row6 col3\" >0.7333</td>\n",
       "                        <td id=\"T_11b1e2be_d9d0_11ea_9675_a0999b0e5235row6_col4\" class=\"data row6 col4\" >0.6434</td>\n",
       "                        <td id=\"T_11b1e2be_d9d0_11ea_9675_a0999b0e5235row6_col5\" class=\"data row6 col5\" >0.4241</td>\n",
       "            </tr>\n",
       "            <tr>\n",
       "                        <th id=\"T_11b1e2be_d9d0_11ea_9675_a0999b0e5235level0_row7\" class=\"row_heading level0 row7\" >7</th>\n",
       "                        <td id=\"T_11b1e2be_d9d0_11ea_9675_a0999b0e5235row7_col0\" class=\"data row7 col0\" >4928.1534</td>\n",
       "                        <td id=\"T_11b1e2be_d9d0_11ea_9675_a0999b0e5235row7_col1\" class=\"data row7 col1\" >46415035.8381</td>\n",
       "                        <td id=\"T_11b1e2be_d9d0_11ea_9675_a0999b0e5235row7_col2\" class=\"data row7 col2\" >6812.8581</td>\n",
       "                        <td id=\"T_11b1e2be_d9d0_11ea_9675_a0999b0e5235row7_col3\" class=\"data row7 col3\" >0.7448</td>\n",
       "                        <td id=\"T_11b1e2be_d9d0_11ea_9675_a0999b0e5235row7_col4\" class=\"data row7 col4\" >0.5887</td>\n",
       "                        <td id=\"T_11b1e2be_d9d0_11ea_9675_a0999b0e5235row7_col5\" class=\"data row7 col5\" >0.4137</td>\n",
       "            </tr>\n",
       "            <tr>\n",
       "                        <th id=\"T_11b1e2be_d9d0_11ea_9675_a0999b0e5235level0_row8\" class=\"row_heading level0 row8\" >8</th>\n",
       "                        <td id=\"T_11b1e2be_d9d0_11ea_9675_a0999b0e5235row8_col0\" class=\"data row8 col0\" >4609.3147</td>\n",
       "                        <td id=\"T_11b1e2be_d9d0_11ea_9675_a0999b0e5235row8_col1\" class=\"data row8 col1\" >40370354.9653</td>\n",
       "                        <td id=\"T_11b1e2be_d9d0_11ea_9675_a0999b0e5235row8_col2\" class=\"data row8 col2\" >6353.7670</td>\n",
       "                        <td id=\"T_11b1e2be_d9d0_11ea_9675_a0999b0e5235row8_col3\" class=\"data row8 col3\" >0.7392</td>\n",
       "                        <td id=\"T_11b1e2be_d9d0_11ea_9675_a0999b0e5235row8_col4\" class=\"data row8 col4\" >0.5686</td>\n",
       "                        <td id=\"T_11b1e2be_d9d0_11ea_9675_a0999b0e5235row8_col5\" class=\"data row8 col5\" >0.5111</td>\n",
       "            </tr>\n",
       "            <tr>\n",
       "                        <th id=\"T_11b1e2be_d9d0_11ea_9675_a0999b0e5235level0_row9\" class=\"row_heading level0 row9\" >9</th>\n",
       "                        <td id=\"T_11b1e2be_d9d0_11ea_9675_a0999b0e5235row9_col0\" class=\"data row9 col0\" >4665.8647</td>\n",
       "                        <td id=\"T_11b1e2be_d9d0_11ea_9675_a0999b0e5235row9_col1\" class=\"data row9 col1\" >42596794.8671</td>\n",
       "                        <td id=\"T_11b1e2be_d9d0_11ea_9675_a0999b0e5235row9_col2\" class=\"data row9 col2\" >6526.6220</td>\n",
       "                        <td id=\"T_11b1e2be_d9d0_11ea_9675_a0999b0e5235row9_col3\" class=\"data row9 col3\" >0.7256</td>\n",
       "                        <td id=\"T_11b1e2be_d9d0_11ea_9675_a0999b0e5235row9_col4\" class=\"data row9 col4\" >0.8131</td>\n",
       "                        <td id=\"T_11b1e2be_d9d0_11ea_9675_a0999b0e5235row9_col5\" class=\"data row9 col5\" >0.4802</td>\n",
       "            </tr>\n",
       "            <tr>\n",
       "                        <th id=\"T_11b1e2be_d9d0_11ea_9675_a0999b0e5235level0_row10\" class=\"row_heading level0 row10\" >Mean</th>\n",
       "                        <td id=\"T_11b1e2be_d9d0_11ea_9675_a0999b0e5235row10_col0\" class=\"data row10 col0\" >4323.6133</td>\n",
       "                        <td id=\"T_11b1e2be_d9d0_11ea_9675_a0999b0e5235row10_col1\" class=\"data row10 col1\" >38380058.4264</td>\n",
       "                        <td id=\"T_11b1e2be_d9d0_11ea_9675_a0999b0e5235row10_col2\" class=\"data row10 col2\" >6175.7162</td>\n",
       "                        <td id=\"T_11b1e2be_d9d0_11ea_9675_a0999b0e5235row10_col3\" class=\"data row10 col3\" >0.7308</td>\n",
       "                        <td id=\"T_11b1e2be_d9d0_11ea_9675_a0999b0e5235row10_col4\" class=\"data row10 col4\" >0.6175</td>\n",
       "                        <td id=\"T_11b1e2be_d9d0_11ea_9675_a0999b0e5235row10_col5\" class=\"data row10 col5\" >0.4432</td>\n",
       "            </tr>\n",
       "            <tr>\n",
       "                        <th id=\"T_11b1e2be_d9d0_11ea_9675_a0999b0e5235level0_row11\" class=\"row_heading level0 row11\" >SD</th>\n",
       "                        <td id=\"T_11b1e2be_d9d0_11ea_9675_a0999b0e5235row11_col0\" class=\"data row11 col0\" >353.5472</td>\n",
       "                        <td id=\"T_11b1e2be_d9d0_11ea_9675_a0999b0e5235row11_col1\" class=\"data row11 col1\" >5908388.8411</td>\n",
       "                        <td id=\"T_11b1e2be_d9d0_11ea_9675_a0999b0e5235row11_col2\" class=\"data row11 col2\" >490.4977</td>\n",
       "                        <td id=\"T_11b1e2be_d9d0_11ea_9675_a0999b0e5235row11_col3\" class=\"data row11 col3\" >0.0543</td>\n",
       "                        <td id=\"T_11b1e2be_d9d0_11ea_9675_a0999b0e5235row11_col4\" class=\"data row11 col4\" >0.1126</td>\n",
       "                        <td id=\"T_11b1e2be_d9d0_11ea_9675_a0999b0e5235row11_col5\" class=\"data row11 col5\" >0.0431</td>\n",
       "            </tr>\n",
       "    </tbody></table>"
      ],
      "text/plain": [
       "<pandas.io.formats.style.Styler at 0x7fde76bbd7c0>"
      ]
     },
     "metadata": {},
     "output_type": "display_data"
    }
   ],
   "source": [
    "lrslim = create_model('lr')"
   ]
  },
  {
   "cell_type": "code",
   "execution_count": 6,
   "metadata": {},
   "outputs": [
    {
     "data": {
      "image/png": "[encoded data removed]",
      "text/plain": [
       "<Figure size 576x396 with 2 Axes>"
      ]
     },
     "metadata": {},
     "output_type": "display_data"
    }
   ],
   "source": [
    "plot_model(lrslim)"
   ]
  },
  {
   "cell_type": "markdown",
   "metadata": {},
   "source": [
    "# Experiment 2"
   ]
  },
  {
   "cell_type": "code",
   "execution_count": null,
   "metadata": {},
   "outputs": [],
   "source": [
    "s2 = setup(data, target = 'charges', session_id = 123,\n",
    "           normalize = True,\n",
    "           polynomial_features = True, trigonometry_features = True, feature_interaction=True, \n",
    "           bin_numeric_features= ['age', 'bmi'])"
   ]
  },
  {
   "cell_type": "code",
   "execution_count": null,
   "metadata": {},
   "outputs": [],
   "source": [
    "s2[0].columns"
   ]
  },
  {
   "cell_type": "code",
   "execution_count": null,
   "metadata": {},
   "outputs": [],
   "source": [
    "lr = create_model('lr')"
   ]
  },
  {
   "cell_type": "code",
   "execution_count": null,
   "metadata": {},
   "outputs": [],
   "source": [
    "plot_model(lr)"
   ]
  },
  {
   "cell_type": "code",
   "execution_count": 7,
   "metadata": {},
   "outputs": [
    {
     "name": "stdout",
     "output_type": "stream",
     "text": [
      "Transformation Pipeline and Model Succesfully Saved\n"
     ]
    }
   ],
   "source": [
    "save_model(lrslim, 'deployment_slim8082020')"
   ]
  },
  {
   "cell_type": "code",
   "execution_count": 10,
   "metadata": {},
   "outputs": [
    {
     "name": "stdout",
     "output_type": "stream",
     "text": [
      "Transformation Pipeline and Model Sucessfully Loaded\n"
     ]
    }
   ],
   "source": [
    "deployment_slim8082020 = load_model('deployment_slim8082020')"
   ]
  },
  {
   "cell_type": "code",
   "execution_count": 11,
   "metadata": {},
   "outputs": [
    {
     "data": {
      "text/plain": [
       "[Pipeline(memory=None,\n",
       "          steps=[('dtypes',\n",
       "                  DataTypes_Auto_infer(categorical_features=[],\n",
       "                                       display_types=True, features_todrop=[],\n",
       "                                       ml_usecase='regression',\n",
       "                                       numerical_features=[], target='charges',\n",
       "                                       time_features=[])),\n",
       "                 ('imputer',\n",
       "                  Simple_Imputer(categorical_strategy='not_available',\n",
       "                                 numeric_strategy='mean',\n",
       "                                 target_variable=None)),\n",
       "                 ('new_levels1',\n",
       "                  New_Catagorical_Levels...\n",
       "                 ('group', Empty()), ('nonliner', Empty()), ('scaling', Empty()),\n",
       "                 ('P_transform', Empty()), ('pt_target', Empty()),\n",
       "                 ('binn', Empty()), ('rem_outliers', Empty()),\n",
       "                 ('cluster_all', Empty()), ('dummy', Dummify(target='charges')),\n",
       "                 ('fix_perfect', Empty()), ('clean_names', Clean_Colum_Names()),\n",
       "                 ('feature_select', Empty()), ('fix_multi', Empty()),\n",
       "                 ('dfs', Empty()), ('pca', Empty())],\n",
       "          verbose=False),\n",
       " LinearRegression(copy_X=True, fit_intercept=True, n_jobs=-1, normalize=False),\n",
       " None]"
      ]
     },
     "execution_count": 11,
     "metadata": {},
     "output_type": "execute_result"
    }
   ],
   "source": [
    "deployment_slim8082020"
   ]
  },
  {
   "cell_type": "code",
   "execution_count": null,
   "metadata": {},
   "outputs": [],
   "source": [
    "import requests\n",
    "url = 'https://streamlit-blah.herokuapp.com/predict_api'\n",
    "pred = requests.post(url,json={'age':55, 'sex':'male', 'bmi':59, 'children':1, 'smoker':'male', 'region':'northwest'})\n",
    "print(pred.json())"
   ]
  }
 ],
 "metadata": {
  "kernelspec": {
   "display_name": "Python 3",
   "language": "python",
   "name": "python3"
  },
  "language_info": {
   "codemirror_mode": {
    "name": "ipython",
    "version": 3
   },
   "file_extension": ".py",
   "mimetype": "text/x-python",
   "name": "python",
   "nbconvert_exporter": "python",
   "pygments_lexer": "ipython3",
   "version": "3.8.5"
  }
 },
 "nbformat": 4,
 "nbformat_minor": 2
}
